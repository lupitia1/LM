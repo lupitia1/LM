{
 "cells": [
  {
   "cell_type": "markdown",
   "metadata": {
    "id": "h4o_INDOLM8j"
   },
   "source": [
    "# **How to set GPU suppport in Colab**\n",
    "\n",
    "Go to Edit -> Notebook Settings -> Hardware accelerator (set GPU or TPU)\n"
   ]
  },
  {
   "cell_type": "code",
   "execution_count": 2,
   "metadata": {
    "colab": {
     "base_uri": "https://localhost:8080/"
    },
    "executionInfo": {
     "elapsed": 1338,
     "status": "ok",
     "timestamp": 1710693602613,
     "user": {
      "displayName": "David V",
      "userId": "14796473427498895857"
     },
     "user_tz": -60
    },
    "id": "NSXKIlMNIz5l",
    "outputId": "4a83203d-4cc7-4bdd-e243-adef4c8ad947"
   },
   "outputs": [
    {
     "name": "stdout",
     "output_type": "stream",
     "text": [
      "Current TensorFlow version:  2.15.0\n",
      "Available resources:  [name: \"/device:CPU:0\"\n",
      "device_type: \"CPU\"\n",
      "memory_limit: 268435456\n",
      "locality {\n",
      "}\n",
      "incarnation: 18042913472076318177\n",
      "xla_global_id: -1\n",
      ", name: \"/device:GPU:0\"\n",
      "device_type: \"GPU\"\n",
      "memory_limit: 14626652160\n",
      "locality {\n",
      "  bus_id: 1\n",
      "  links {\n",
      "  }\n",
      "}\n",
      "incarnation: 15194461062903193964\n",
      "physical_device_desc: \"device: 0, name: Tesla T4, pci bus id: 0000:00:04.0, compute capability: 7.5\"\n",
      "xla_global_id: 416903419\n",
      "]\n"
     ]
    }
   ],
   "source": [
    "import tensorflow as tf\n",
    "from tensorflow.python.client import device_lib\n",
    "\n",
    "print(\"Current TensorFlow version: \", tf.__version__)\n",
    "print(\"Available resources: \", device_lib.list_local_devices())\n"
   ]
  }
 ],
 "metadata": {
  "accelerator": "GPU",
  "colab": {
   "authorship_tag": "ABX9TyN0pUfqEpVnJrF7Y6dePRLz",
   "provenance": []
  },
  "kernelspec": {
   "display_name": "Python 3",
   "name": "python3"
  },
  "language_info": {
   "name": "python"
  }
 },
 "nbformat": 4,
 "nbformat_minor": 0
}
